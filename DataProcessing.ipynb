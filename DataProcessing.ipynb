{
  "nbformat": 4,
  "nbformat_minor": 0,
  "metadata": {
    "colab": {
      "name": "DV_GroupProject.ipynb",
      "provenance": [],
      "collapsed_sections": [],
      "toc_visible": true,
      "include_colab_link": true
    },
    "kernelspec": {
      "name": "python3",
      "display_name": "Python 3"
    }
  },
  "cells": [
    {
      "cell_type": "markdown",
      "metadata": {
        "id": "view-in-github",
        "colab_type": "text"
      },
      "source": [
        "<a href=\"https://colab.research.google.com/github/laukikupadhye/NetflixRecommendation/blob/main/DataProcessing.ipynb\" target=\"_parent\"><img src=\"https://colab.research.google.com/assets/colab-badge.svg\" alt=\"Open In Colab\"/></a>"
      ]
    },
    {
      "cell_type": "markdown",
      "metadata": {
        "id": "lY5gZJZY9GTs"
      },
      "source": [
        "#Data Cleaning and processing for Netflix movie recommender"
      ]
    },
    {
      "cell_type": "markdown",
      "metadata": {
        "id": "JIE562a3sB3r"
      },
      "source": [
        "##Load Libraries"
      ]
    },
    {
      "cell_type": "code",
      "metadata": {
        "id": "Z1iIVauJ31BN"
      },
      "source": [
        "import pandas as pd\n",
        "import numpy as np\n",
        "import datetime as dt"
      ],
      "execution_count": null,
      "outputs": []
    },
    {
      "cell_type": "code",
      "metadata": {
        "id": "BPRk8luG3589",
        "colab": {
          "base_uri": "https://localhost:8080/",
          "height": 430
        },
        "outputId": "4ca32889-1ced-44ea-acb8-e0138ab57e6b"
      },
      "source": [
        "data =pd.read_csv(\"/content/netflix_titles.csv\")\n",
        "data.head(5)"
      ],
      "execution_count": null,
      "outputs": [
        {
          "output_type": "execute_result",
          "data": {
            "text/html": [
              "<div>\n",
              "<style scoped>\n",
              "    .dataframe tbody tr th:only-of-type {\n",
              "        vertical-align: middle;\n",
              "    }\n",
              "\n",
              "    .dataframe tbody tr th {\n",
              "        vertical-align: top;\n",
              "    }\n",
              "\n",
              "    .dataframe thead th {\n",
              "        text-align: right;\n",
              "    }\n",
              "</style>\n",
              "<table border=\"1\" class=\"dataframe\">\n",
              "  <thead>\n",
              "    <tr style=\"text-align: right;\">\n",
              "      <th></th>\n",
              "      <th>show_id</th>\n",
              "      <th>type</th>\n",
              "      <th>title</th>\n",
              "      <th>director</th>\n",
              "      <th>cast</th>\n",
              "      <th>country</th>\n",
              "      <th>date_added</th>\n",
              "      <th>release_year</th>\n",
              "      <th>rating</th>\n",
              "      <th>duration</th>\n",
              "      <th>listed_in</th>\n",
              "      <th>description</th>\n",
              "    </tr>\n",
              "  </thead>\n",
              "  <tbody>\n",
              "    <tr>\n",
              "      <th>0</th>\n",
              "      <td>81145628</td>\n",
              "      <td>Movie</td>\n",
              "      <td>Norm of the North: King Sized Adventure</td>\n",
              "      <td>Richard Finn, Tim Maltby</td>\n",
              "      <td>Alan Marriott, Andrew Toth, Brian Dobson, Cole...</td>\n",
              "      <td>United States, India, South Korea, China</td>\n",
              "      <td>September 9, 2019</td>\n",
              "      <td>2019</td>\n",
              "      <td>TV-PG</td>\n",
              "      <td>90 min</td>\n",
              "      <td>Children &amp; Family Movies, Comedies</td>\n",
              "      <td>Before planning an awesome wedding for his gra...</td>\n",
              "    </tr>\n",
              "    <tr>\n",
              "      <th>1</th>\n",
              "      <td>80117401</td>\n",
              "      <td>Movie</td>\n",
              "      <td>Jandino: Whatever it Takes</td>\n",
              "      <td>NaN</td>\n",
              "      <td>Jandino Asporaat</td>\n",
              "      <td>United Kingdom</td>\n",
              "      <td>September 9, 2016</td>\n",
              "      <td>2016</td>\n",
              "      <td>TV-MA</td>\n",
              "      <td>94 min</td>\n",
              "      <td>Stand-Up Comedy</td>\n",
              "      <td>Jandino Asporaat riffs on the challenges of ra...</td>\n",
              "    </tr>\n",
              "    <tr>\n",
              "      <th>2</th>\n",
              "      <td>70234439</td>\n",
              "      <td>TV Show</td>\n",
              "      <td>Transformers Prime</td>\n",
              "      <td>NaN</td>\n",
              "      <td>Peter Cullen, Sumalee Montano, Frank Welker, J...</td>\n",
              "      <td>United States</td>\n",
              "      <td>September 8, 2018</td>\n",
              "      <td>2013</td>\n",
              "      <td>TV-Y7-FV</td>\n",
              "      <td>1 Season</td>\n",
              "      <td>Kids' TV</td>\n",
              "      <td>With the help of three human allies, the Autob...</td>\n",
              "    </tr>\n",
              "    <tr>\n",
              "      <th>3</th>\n",
              "      <td>80058654</td>\n",
              "      <td>TV Show</td>\n",
              "      <td>Transformers: Robots in Disguise</td>\n",
              "      <td>NaN</td>\n",
              "      <td>Will Friedle, Darren Criss, Constance Zimmer, ...</td>\n",
              "      <td>United States</td>\n",
              "      <td>September 8, 2018</td>\n",
              "      <td>2016</td>\n",
              "      <td>TV-Y7</td>\n",
              "      <td>1 Season</td>\n",
              "      <td>Kids' TV</td>\n",
              "      <td>When a prison ship crash unleashes hundreds of...</td>\n",
              "    </tr>\n",
              "    <tr>\n",
              "      <th>4</th>\n",
              "      <td>80125979</td>\n",
              "      <td>Movie</td>\n",
              "      <td>#realityhigh</td>\n",
              "      <td>Fernando Lebrija</td>\n",
              "      <td>Nesta Cooper, Kate Walsh, John Michael Higgins...</td>\n",
              "      <td>United States</td>\n",
              "      <td>September 8, 2017</td>\n",
              "      <td>2017</td>\n",
              "      <td>TV-14</td>\n",
              "      <td>99 min</td>\n",
              "      <td>Comedies</td>\n",
              "      <td>When nerdy high schooler Dani finally attracts...</td>\n",
              "    </tr>\n",
              "  </tbody>\n",
              "</table>\n",
              "</div>"
            ],
            "text/plain": [
              "    show_id  ...                                        description\n",
              "0  81145628  ...  Before planning an awesome wedding for his gra...\n",
              "1  80117401  ...  Jandino Asporaat riffs on the challenges of ra...\n",
              "2  70234439  ...  With the help of three human allies, the Autob...\n",
              "3  80058654  ...  When a prison ship crash unleashes hundreds of...\n",
              "4  80125979  ...  When nerdy high schooler Dani finally attracts...\n",
              "\n",
              "[5 rows x 12 columns]"
            ]
          },
          "metadata": {
            "tags": []
          },
          "execution_count": 4
        }
      ]
    },
    {
      "cell_type": "markdown",
      "metadata": {
        "id": "E9y-Id0Kd2un"
      },
      "source": [
        "##Converting string to date and creating new column for release year and month"
      ]
    },
    {
      "cell_type": "code",
      "metadata": {
        "id": "9oVTwYj26pbL",
        "colab": {
          "base_uri": "https://localhost:8080/"
        },
        "outputId": "7d430075-9972-4988-c6a2-08681662e2b6"
      },
      "source": [
        "data['date_added']=pd.to_datetime(data['date_added'])\n",
        "data.info()"
      ],
      "execution_count": null,
      "outputs": [
        {
          "output_type": "stream",
          "text": [
            "<class 'pandas.core.frame.DataFrame'>\n",
            "RangeIndex: 6234 entries, 0 to 6233\n",
            "Data columns (total 12 columns):\n",
            " #   Column        Non-Null Count  Dtype         \n",
            "---  ------        --------------  -----         \n",
            " 0   show_id       6234 non-null   int64         \n",
            " 1   type          6234 non-null   object        \n",
            " 2   title         6234 non-null   object        \n",
            " 3   director      4265 non-null   object        \n",
            " 4   cast          5664 non-null   object        \n",
            " 5   country       5758 non-null   object        \n",
            " 6   date_added    6223 non-null   datetime64[ns]\n",
            " 7   release_year  6234 non-null   int64         \n",
            " 8   rating        6224 non-null   object        \n",
            " 9   duration      6234 non-null   object        \n",
            " 10  listed_in     6234 non-null   object        \n",
            " 11  description   6234 non-null   object        \n",
            "dtypes: datetime64[ns](1), int64(2), object(9)\n",
            "memory usage: 584.6+ KB\n"
          ],
          "name": "stdout"
        }
      ]
    },
    {
      "cell_type": "code",
      "metadata": {
        "id": "Kocqhale9tH8",
        "colab": {
          "base_uri": "https://localhost:8080/",
          "height": 481
        },
        "outputId": "f6d64583-33e4-4174-bcd3-3e221db4b4be"
      },
      "source": [
        "#data['release_year']=data['date_added'].strftime(\"%Y\")\n",
        "data['release_year']=data['date_added'].dt.year\n",
        "data['release_month']=data['date_added'].dt.month_name().str.slice(stop=3)\n",
        "data.head(5)"
      ],
      "execution_count": null,
      "outputs": [
        {
          "output_type": "execute_result",
          "data": {
            "text/html": [
              "<div>\n",
              "<style scoped>\n",
              "    .dataframe tbody tr th:only-of-type {\n",
              "        vertical-align: middle;\n",
              "    }\n",
              "\n",
              "    .dataframe tbody tr th {\n",
              "        vertical-align: top;\n",
              "    }\n",
              "\n",
              "    .dataframe thead th {\n",
              "        text-align: right;\n",
              "    }\n",
              "</style>\n",
              "<table border=\"1\" class=\"dataframe\">\n",
              "  <thead>\n",
              "    <tr style=\"text-align: right;\">\n",
              "      <th></th>\n",
              "      <th>show_id</th>\n",
              "      <th>type</th>\n",
              "      <th>title</th>\n",
              "      <th>director</th>\n",
              "      <th>cast</th>\n",
              "      <th>country</th>\n",
              "      <th>date_added</th>\n",
              "      <th>release_year</th>\n",
              "      <th>rating</th>\n",
              "      <th>duration</th>\n",
              "      <th>listed_in</th>\n",
              "      <th>description</th>\n",
              "      <th>release_month</th>\n",
              "    </tr>\n",
              "  </thead>\n",
              "  <tbody>\n",
              "    <tr>\n",
              "      <th>0</th>\n",
              "      <td>81145628</td>\n",
              "      <td>Movie</td>\n",
              "      <td>Norm of the North: King Sized Adventure</td>\n",
              "      <td>Richard Finn, Tim Maltby</td>\n",
              "      <td>Alan Marriott, Andrew Toth, Brian Dobson, Cole...</td>\n",
              "      <td>United States, India, South Korea, China</td>\n",
              "      <td>2019-09-09</td>\n",
              "      <td>2019.0</td>\n",
              "      <td>TV-PG</td>\n",
              "      <td>90 min</td>\n",
              "      <td>Children &amp; Family Movies, Comedies</td>\n",
              "      <td>Before planning an awesome wedding for his gra...</td>\n",
              "      <td>Sep</td>\n",
              "    </tr>\n",
              "    <tr>\n",
              "      <th>1</th>\n",
              "      <td>80117401</td>\n",
              "      <td>Movie</td>\n",
              "      <td>Jandino: Whatever it Takes</td>\n",
              "      <td>NaN</td>\n",
              "      <td>Jandino Asporaat</td>\n",
              "      <td>United Kingdom</td>\n",
              "      <td>2016-09-09</td>\n",
              "      <td>2016.0</td>\n",
              "      <td>TV-MA</td>\n",
              "      <td>94 min</td>\n",
              "      <td>Stand-Up Comedy</td>\n",
              "      <td>Jandino Asporaat riffs on the challenges of ra...</td>\n",
              "      <td>Sep</td>\n",
              "    </tr>\n",
              "    <tr>\n",
              "      <th>2</th>\n",
              "      <td>70234439</td>\n",
              "      <td>TV Show</td>\n",
              "      <td>Transformers Prime</td>\n",
              "      <td>NaN</td>\n",
              "      <td>Peter Cullen, Sumalee Montano, Frank Welker, J...</td>\n",
              "      <td>United States</td>\n",
              "      <td>2018-09-08</td>\n",
              "      <td>2018.0</td>\n",
              "      <td>TV-Y7-FV</td>\n",
              "      <td>1 Season</td>\n",
              "      <td>Kids' TV</td>\n",
              "      <td>With the help of three human allies, the Autob...</td>\n",
              "      <td>Sep</td>\n",
              "    </tr>\n",
              "    <tr>\n",
              "      <th>3</th>\n",
              "      <td>80058654</td>\n",
              "      <td>TV Show</td>\n",
              "      <td>Transformers: Robots in Disguise</td>\n",
              "      <td>NaN</td>\n",
              "      <td>Will Friedle, Darren Criss, Constance Zimmer, ...</td>\n",
              "      <td>United States</td>\n",
              "      <td>2018-09-08</td>\n",
              "      <td>2018.0</td>\n",
              "      <td>TV-Y7</td>\n",
              "      <td>1 Season</td>\n",
              "      <td>Kids' TV</td>\n",
              "      <td>When a prison ship crash unleashes hundreds of...</td>\n",
              "      <td>Sep</td>\n",
              "    </tr>\n",
              "    <tr>\n",
              "      <th>4</th>\n",
              "      <td>80125979</td>\n",
              "      <td>Movie</td>\n",
              "      <td>#realityhigh</td>\n",
              "      <td>Fernando Lebrija</td>\n",
              "      <td>Nesta Cooper, Kate Walsh, John Michael Higgins...</td>\n",
              "      <td>United States</td>\n",
              "      <td>2017-09-08</td>\n",
              "      <td>2017.0</td>\n",
              "      <td>TV-14</td>\n",
              "      <td>99 min</td>\n",
              "      <td>Comedies</td>\n",
              "      <td>When nerdy high schooler Dani finally attracts...</td>\n",
              "      <td>Sep</td>\n",
              "    </tr>\n",
              "  </tbody>\n",
              "</table>\n",
              "</div>"
            ],
            "text/plain": [
              "    show_id  ... release_month\n",
              "0  81145628  ...           Sep\n",
              "1  80117401  ...           Sep\n",
              "2  70234439  ...           Sep\n",
              "3  80058654  ...           Sep\n",
              "4  80125979  ...           Sep\n",
              "\n",
              "[5 rows x 13 columns]"
            ]
          },
          "metadata": {
            "tags": []
          },
          "execution_count": 10
        }
      ]
    },
    {
      "cell_type": "markdown",
      "metadata": {
        "id": "p2Lq0gQS9stW"
      },
      "source": [
        "##Creating table for showing count of movies by each year and month"
      ]
    },
    {
      "cell_type": "code",
      "metadata": {
        "id": "ZqNMje--_jFi"
      },
      "source": [
        "dataA=data.groupby(['release_year','release_month'],as_index=False).agg(count_movies=('title','count')).copy()\n",
        "#dataA.head(33121)"
      ],
      "execution_count": null,
      "outputs": []
    },
    {
      "cell_type": "code",
      "metadata": {
        "id": "3HqzX8P6GbQc"
      },
      "source": [
        "dataA.to_csv('/content/year_month_count.csv', index = False)"
      ],
      "execution_count": null,
      "outputs": []
    },
    {
      "cell_type": "code",
      "metadata": {
        "colab": {
          "base_uri": "https://localhost:8080/",
          "height": 194
        },
        "id": "6l838NDQ0t3r",
        "outputId": "18aaf124-0629-43d5-9400-cfe8dc1b16e6"
      },
      "source": [
        "dataA.head()"
      ],
      "execution_count": null,
      "outputs": [
        {
          "output_type": "execute_result",
          "data": {
            "text/html": [
              "<div>\n",
              "<style scoped>\n",
              "    .dataframe tbody tr th:only-of-type {\n",
              "        vertical-align: middle;\n",
              "    }\n",
              "\n",
              "    .dataframe tbody tr th {\n",
              "        vertical-align: top;\n",
              "    }\n",
              "\n",
              "    .dataframe thead th {\n",
              "        text-align: right;\n",
              "    }\n",
              "</style>\n",
              "<table border=\"1\" class=\"dataframe\">\n",
              "  <thead>\n",
              "    <tr style=\"text-align: right;\">\n",
              "      <th></th>\n",
              "      <th>release_year</th>\n",
              "      <th>release_month</th>\n",
              "      <th>count_movies</th>\n",
              "    </tr>\n",
              "  </thead>\n",
              "  <tbody>\n",
              "    <tr>\n",
              "      <th>0</th>\n",
              "      <td>2008.0</td>\n",
              "      <td>Feb</td>\n",
              "      <td>1</td>\n",
              "    </tr>\n",
              "    <tr>\n",
              "      <th>1</th>\n",
              "      <td>2008.0</td>\n",
              "      <td>Jan</td>\n",
              "      <td>1</td>\n",
              "    </tr>\n",
              "    <tr>\n",
              "      <th>2</th>\n",
              "      <td>2009.0</td>\n",
              "      <td>May</td>\n",
              "      <td>1</td>\n",
              "    </tr>\n",
              "    <tr>\n",
              "      <th>3</th>\n",
              "      <td>2009.0</td>\n",
              "      <td>Nov</td>\n",
              "      <td>1</td>\n",
              "    </tr>\n",
              "    <tr>\n",
              "      <th>4</th>\n",
              "      <td>2010.0</td>\n",
              "      <td>Nov</td>\n",
              "      <td>1</td>\n",
              "    </tr>\n",
              "  </tbody>\n",
              "</table>\n",
              "</div>"
            ],
            "text/plain": [
              "   release_year release_month  count_movies\n",
              "0        2008.0           Feb             1\n",
              "1        2008.0           Jan             1\n",
              "2        2009.0           May             1\n",
              "3        2009.0           Nov             1\n",
              "4        2010.0           Nov             1"
            ]
          },
          "metadata": {
            "tags": []
          },
          "execution_count": 13
        }
      ]
    },
    {
      "cell_type": "code",
      "metadata": {
        "id": "c-bl2E6N1aoG"
      },
      "source": [
        "monthset=['Jan','Feb','Mar','Apr','May','Jun','Jul','Aug','Sep','Oct','Nov','Dec']\n"
      ],
      "execution_count": null,
      "outputs": []
    },
    {
      "cell_type": "code",
      "metadata": {
        "id": "jhDfvYT-L69s"
      },
      "source": [
        "dataB=pd.DataFrame(columns=['Years','Months'])\n",
        "#dataC\n",
        "#append rows to it, for each year, append all month\n",
        "rowlist=[]\n",
        "for year in range(2008,2021):\n",
        "  for mon in (monthset):\n",
        "    #print()\n",
        "    rowlist.append([year,mon])  \n",
        "dataB=dataB.append(pd.DataFrame(rowlist,columns=['Years','Months']))\n"
      ],
      "execution_count": null,
      "outputs": []
    },
    {
      "cell_type": "code",
      "metadata": {
        "colab": {
          "base_uri": "https://localhost:8080/",
          "height": 399
        },
        "id": "0gqpmEHsTkFk",
        "outputId": "9d5af635-0fe8-4a1a-a4db-94e120abe13b"
      },
      "source": [
        "dataB"
      ],
      "execution_count": null,
      "outputs": [
        {
          "output_type": "execute_result",
          "data": {
            "text/html": [
              "<div>\n",
              "<style scoped>\n",
              "    .dataframe tbody tr th:only-of-type {\n",
              "        vertical-align: middle;\n",
              "    }\n",
              "\n",
              "    .dataframe tbody tr th {\n",
              "        vertical-align: top;\n",
              "    }\n",
              "\n",
              "    .dataframe thead th {\n",
              "        text-align: right;\n",
              "    }\n",
              "</style>\n",
              "<table border=\"1\" class=\"dataframe\">\n",
              "  <thead>\n",
              "    <tr style=\"text-align: right;\">\n",
              "      <th></th>\n",
              "      <th>Years</th>\n",
              "      <th>Months</th>\n",
              "    </tr>\n",
              "  </thead>\n",
              "  <tbody>\n",
              "    <tr>\n",
              "      <th>0</th>\n",
              "      <td>2008</td>\n",
              "      <td>Jan</td>\n",
              "    </tr>\n",
              "    <tr>\n",
              "      <th>1</th>\n",
              "      <td>2008</td>\n",
              "      <td>Feb</td>\n",
              "    </tr>\n",
              "    <tr>\n",
              "      <th>2</th>\n",
              "      <td>2008</td>\n",
              "      <td>Mar</td>\n",
              "    </tr>\n",
              "    <tr>\n",
              "      <th>3</th>\n",
              "      <td>2008</td>\n",
              "      <td>Apr</td>\n",
              "    </tr>\n",
              "    <tr>\n",
              "      <th>4</th>\n",
              "      <td>2008</td>\n",
              "      <td>May</td>\n",
              "    </tr>\n",
              "    <tr>\n",
              "      <th>...</th>\n",
              "      <td>...</td>\n",
              "      <td>...</td>\n",
              "    </tr>\n",
              "    <tr>\n",
              "      <th>139</th>\n",
              "      <td>2019</td>\n",
              "      <td>Aug</td>\n",
              "    </tr>\n",
              "    <tr>\n",
              "      <th>140</th>\n",
              "      <td>2019</td>\n",
              "      <td>Sep</td>\n",
              "    </tr>\n",
              "    <tr>\n",
              "      <th>141</th>\n",
              "      <td>2019</td>\n",
              "      <td>Oct</td>\n",
              "    </tr>\n",
              "    <tr>\n",
              "      <th>142</th>\n",
              "      <td>2019</td>\n",
              "      <td>Nov</td>\n",
              "    </tr>\n",
              "    <tr>\n",
              "      <th>143</th>\n",
              "      <td>2019</td>\n",
              "      <td>Dec</td>\n",
              "    </tr>\n",
              "  </tbody>\n",
              "</table>\n",
              "<p>144 rows × 2 columns</p>\n",
              "</div>"
            ],
            "text/plain": [
              "    Years Months\n",
              "0    2008    Jan\n",
              "1    2008    Feb\n",
              "2    2008    Mar\n",
              "3    2008    Apr\n",
              "4    2008    May\n",
              "..    ...    ...\n",
              "139  2019    Aug\n",
              "140  2019    Sep\n",
              "141  2019    Oct\n",
              "142  2019    Nov\n",
              "143  2019    Dec\n",
              "\n",
              "[144 rows x 2 columns]"
            ]
          },
          "metadata": {
            "tags": []
          },
          "execution_count": 53
        }
      ]
    },
    {
      "cell_type": "code",
      "metadata": {
        "colab": {
          "base_uri": "https://localhost:8080/",
          "height": 399
        },
        "id": "uGA0wIR43jq_",
        "outputId": "81d648c0-902c-4430-e4e2-5d3e93c2d8f3"
      },
      "source": [
        "dataC = pd.merge(left=dataB, right=dataA, how='outer', left_on=['Years','Months'], right_on=['release_year','release_month'])\n",
        "dataC"
      ],
      "execution_count": null,
      "outputs": [
        {
          "output_type": "execute_result",
          "data": {
            "text/html": [
              "<div>\n",
              "<style scoped>\n",
              "    .dataframe tbody tr th:only-of-type {\n",
              "        vertical-align: middle;\n",
              "    }\n",
              "\n",
              "    .dataframe tbody tr th {\n",
              "        vertical-align: top;\n",
              "    }\n",
              "\n",
              "    .dataframe thead th {\n",
              "        text-align: right;\n",
              "    }\n",
              "</style>\n",
              "<table border=\"1\" class=\"dataframe\">\n",
              "  <thead>\n",
              "    <tr style=\"text-align: right;\">\n",
              "      <th></th>\n",
              "      <th>Years</th>\n",
              "      <th>Months</th>\n",
              "      <th>release_year</th>\n",
              "      <th>release_month</th>\n",
              "      <th>count_movies</th>\n",
              "    </tr>\n",
              "  </thead>\n",
              "  <tbody>\n",
              "    <tr>\n",
              "      <th>0</th>\n",
              "      <td>2008</td>\n",
              "      <td>Jan</td>\n",
              "      <td>2008.0</td>\n",
              "      <td>Jan</td>\n",
              "      <td>1.0</td>\n",
              "    </tr>\n",
              "    <tr>\n",
              "      <th>1</th>\n",
              "      <td>2008</td>\n",
              "      <td>Feb</td>\n",
              "      <td>2008.0</td>\n",
              "      <td>Feb</td>\n",
              "      <td>1.0</td>\n",
              "    </tr>\n",
              "    <tr>\n",
              "      <th>2</th>\n",
              "      <td>2008</td>\n",
              "      <td>Mar</td>\n",
              "      <td>NaN</td>\n",
              "      <td>NaN</td>\n",
              "      <td>NaN</td>\n",
              "    </tr>\n",
              "    <tr>\n",
              "      <th>3</th>\n",
              "      <td>2008</td>\n",
              "      <td>Apr</td>\n",
              "      <td>NaN</td>\n",
              "      <td>NaN</td>\n",
              "      <td>NaN</td>\n",
              "    </tr>\n",
              "    <tr>\n",
              "      <th>4</th>\n",
              "      <td>2008</td>\n",
              "      <td>May</td>\n",
              "      <td>NaN</td>\n",
              "      <td>NaN</td>\n",
              "      <td>NaN</td>\n",
              "    </tr>\n",
              "    <tr>\n",
              "      <th>...</th>\n",
              "      <td>...</td>\n",
              "      <td>...</td>\n",
              "      <td>...</td>\n",
              "      <td>...</td>\n",
              "      <td>...</td>\n",
              "    </tr>\n",
              "    <tr>\n",
              "      <th>151</th>\n",
              "      <td>2020</td>\n",
              "      <td>Aug</td>\n",
              "      <td>NaN</td>\n",
              "      <td>NaN</td>\n",
              "      <td>NaN</td>\n",
              "    </tr>\n",
              "    <tr>\n",
              "      <th>152</th>\n",
              "      <td>2020</td>\n",
              "      <td>Sep</td>\n",
              "      <td>NaN</td>\n",
              "      <td>NaN</td>\n",
              "      <td>NaN</td>\n",
              "    </tr>\n",
              "    <tr>\n",
              "      <th>153</th>\n",
              "      <td>2020</td>\n",
              "      <td>Oct</td>\n",
              "      <td>NaN</td>\n",
              "      <td>NaN</td>\n",
              "      <td>NaN</td>\n",
              "    </tr>\n",
              "    <tr>\n",
              "      <th>154</th>\n",
              "      <td>2020</td>\n",
              "      <td>Nov</td>\n",
              "      <td>NaN</td>\n",
              "      <td>NaN</td>\n",
              "      <td>NaN</td>\n",
              "    </tr>\n",
              "    <tr>\n",
              "      <th>155</th>\n",
              "      <td>2020</td>\n",
              "      <td>Dec</td>\n",
              "      <td>NaN</td>\n",
              "      <td>NaN</td>\n",
              "      <td>NaN</td>\n",
              "    </tr>\n",
              "  </tbody>\n",
              "</table>\n",
              "<p>156 rows × 5 columns</p>\n",
              "</div>"
            ],
            "text/plain": [
              "    Years Months  release_year release_month  count_movies\n",
              "0    2008    Jan        2008.0           Jan           1.0\n",
              "1    2008    Feb        2008.0           Feb           1.0\n",
              "2    2008    Mar           NaN           NaN           NaN\n",
              "3    2008    Apr           NaN           NaN           NaN\n",
              "4    2008    May           NaN           NaN           NaN\n",
              "..    ...    ...           ...           ...           ...\n",
              "151  2020    Aug           NaN           NaN           NaN\n",
              "152  2020    Sep           NaN           NaN           NaN\n",
              "153  2020    Oct           NaN           NaN           NaN\n",
              "154  2020    Nov           NaN           NaN           NaN\n",
              "155  2020    Dec           NaN           NaN           NaN\n",
              "\n",
              "[156 rows x 5 columns]"
            ]
          },
          "metadata": {
            "tags": []
          },
          "execution_count": 57
        }
      ]
    },
    {
      "cell_type": "code",
      "metadata": {
        "id": "zw3q-bYOGFeb"
      },
      "source": [
        "dataC['count_movies']=dataC[(dataC['count_movies']==NaN)]"
      ],
      "execution_count": null,
      "outputs": []
    },
    {
      "cell_type": "code",
      "metadata": {
        "id": "DEhO47hzFS3T"
      },
      "source": [
        "dataC[['Years','Months','count_movies']].to_csv('/content/year_month_count.csv', index = False)"
      ],
      "execution_count": null,
      "outputs": []
    },
    {
      "cell_type": "markdown",
      "metadata": {
        "id": "jrLlmcnQnl_G"
      },
      "source": [
        "#Find top 5 countries and top two movies each for nested pie chart"
      ]
    },
    {
      "cell_type": "code",
      "metadata": {
        "id": "4y-g1fRNnlIA"
      },
      "source": [
        "data =pd.read_csv(\"/content/netflix_IMDB.csv\")\n",
        "data['date_added']=pd.to_datetime(data['date_added'])\n",
        "data['release_year']=data['date_added'].dt.year\n",
        "data['release_month']=data['date_added'].dt.month_name().str.slice(stop=3)"
      ],
      "execution_count": null,
      "outputs": []
    },
    {
      "cell_type": "code",
      "metadata": {
        "id": "kVtb8rNvwgX3"
      },
      "source": [
        "data.info()"
      ],
      "execution_count": null,
      "outputs": []
    },
    {
      "cell_type": "code",
      "metadata": {
        "id": "dxmQKn3Puwm9"
      },
      "source": [
        "#Count by year and month\n",
        "dataA=data.groupby(['release_year','release_month','country_x'],as_index=False).agg(count_movies=('title_x','count')).copy()"
      ],
      "execution_count": null,
      "outputs": []
    },
    {
      "cell_type": "code",
      "metadata": {
        "id": "Pqg-GwssQiUo"
      },
      "source": [
        "dataA"
      ],
      "execution_count": null,
      "outputs": []
    },
    {
      "cell_type": "code",
      "metadata": {
        "id": "5Tzc6lBHvTnf"
      },
      "source": [
        "dataPieOuter=dataA[(dataA.release_year==2020) &(dataA.release_month=='Jan')].sort_values(by='count_movies',ascending=False).head(5).copy()\n",
        "dataPieOuter.to_csv('/content/country_wise_count.csv', index = False)"
      ],
      "execution_count": null,
      "outputs": []
    },
    {
      "cell_type": "markdown",
      "metadata": {
        "id": "U0UxuQQvQ2qZ"
      },
      "source": [
        "year month wise top 5 countryies"
      ]
    },
    {
      "cell_type": "code",
      "metadata": {
        "id": "3DjGIxEzQ9FS"
      },
      "source": [
        "dataPieOuter1=dataA.sort_values(by='count_movies',ascending=False).copy()\n",
        "#dataPieOuter.to_csv('/content/country_wise_count.csv', index = False)\n",
        "dataAllYearsPieOuter=dataPieOuter1.groupby(['release_year','release_month']).head(5)\n",
        "dataAllYearsPieOuter.to_csv('/content/country_wise_count_all_years.csv', index = False)"
      ],
      "execution_count": null,
      "outputs": []
    },
    {
      "cell_type": "code",
      "metadata": {
        "id": "wH0c3onRF-Tr"
      },
      "source": [
        "dataAllYearsPieOuter"
      ],
      "execution_count": null,
      "outputs": []
    },
    {
      "cell_type": "code",
      "metadata": {
        "id": "q-_cy_x-yRtT"
      },
      "source": [
        "dataC=data[['country_x','title_x','avg_vote']][(data.country_x.isin(dataPieOuter.country_x.to_list()))].sort_values(by='avg_vote',ascending=False)"
      ],
      "execution_count": null,
      "outputs": []
    },
    {
      "cell_type": "code",
      "metadata": {
        "id": "OneKpa66Pk31"
      },
      "source": [
        "dataPieInner=dataC.groupby('country_x').head(2)\n",
        "dataPieInner.to_csv('/content/country_movies_ratings.csv',index=False)"
      ],
      "execution_count": null,
      "outputs": []
    },
    {
      "cell_type": "markdown",
      "metadata": {
        "id": "Wt7vQ2jD77pu"
      },
      "source": [
        "Adding outerpie data values to innerpie data"
      ]
    },
    {
      "cell_type": "code",
      "metadata": {
        "id": "m8siVYW57Nvg"
      },
      "source": [
        "newPieInner = pd.merge(left=dataPieInner, right=dataPieOuter, how='left', left_on=['country_x'], right_on=['country_x'])"
      ],
      "execution_count": null,
      "outputs": []
    },
    {
      "cell_type": "code",
      "metadata": {
        "id": "-q4Gi16l7u54"
      },
      "source": [
        "newPieInner=newPieInner[['country_x','title_x','count_movies','avg_vote']]\n",
        "newPieInner.to_csv('/content/country_movies_ratings.csv',index=False)"
      ],
      "execution_count": null,
      "outputs": []
    },
    {
      "cell_type": "code",
      "metadata": {
        "id": "Bzad7i8c8ESb"
      },
      "source": [
        "newPieInner"
      ],
      "execution_count": null,
      "outputs": []
    },
    {
      "cell_type": "markdown",
      "metadata": {
        "id": "rqLQEw8vm-6O"
      },
      "source": [
        "New Inner pie data"
      ]
    },
    {
      "cell_type": "code",
      "metadata": {
        "id": "osUGTHk6nCTe"
      },
      "source": [
        "dataP=data[['release_year','release_month','country_x','title_x','avg_vote']].sort_values(by='avg_vote',ascending=False)"
      ],
      "execution_count": null,
      "outputs": []
    },
    {
      "cell_type": "code",
      "metadata": {
        "id": "GjAdUzKNne44"
      },
      "source": [
        "newInnerPie=dataP.groupby(['release_year','release_month','country_x']).head(2)\n",
        "#newInnerPie[(dataP.release_year==2020)&(dataP.release_month=='Jan')&(dataP.country_x=='India')]\n",
        "#newInnerPie.to_csv('/content/country_movie_rating.csv',index=False)"
      ],
      "execution_count": null,
      "outputs": []
    },
    {
      "cell_type": "code",
      "metadata": {
        "id": "RhlmseCiGEZh"
      },
      "source": [
        "newInnerPie"
      ],
      "execution_count": null,
      "outputs": []
    },
    {
      "cell_type": "code",
      "metadata": {
        "id": "58eTcfxwEdyH"
      },
      "source": [
        "innerDataStore=pd.merge(left=dataAllYearsPieOuter, right=newInnerPie, how='left', left_on=['release_year','release_month','country_x'], right_on=['release_year','release_month','country_x'])\n",
        "#innerDataStore[(innerDataStore.release_year==2020)&(innerDataStore.release_month=='Jan')&(innerDataStore.country_x=='India')]\n",
        "innerDataStore.to_csv('/content/country_movie_ratings.csv',index=False)"
      ],
      "execution_count": null,
      "outputs": []
    },
    {
      "cell_type": "code",
      "metadata": {
        "id": "87DBRda4GY_4"
      },
      "source": [
        "innerDataStore[(innerDataStore.release_year==2020)&(innerDataStore.release_month=='Jan')&(innerDataStore.country_x=='India')]"
      ],
      "execution_count": null,
      "outputs": []
    },
    {
      "cell_type": "markdown",
      "metadata": {
        "id": "rz_aNpTavVR0"
      },
      "source": [
        "#Movie Recommendation by director"
      ]
    },
    {
      "cell_type": "code",
      "metadata": {
        "id": "Z8FuySJgvcy-"
      },
      "source": [
        "director=data[(data.title_x.isin(newPieInner.title_x.head(1)))].director_x.values[0]\n",
        "director\n",
        "\n",
        "top10Movies=data[(data.director_x==director)][['director_x','title_x','avg_vote']].sort_values(by='avg_vote',ascending=False).head(11).copy()\n",
        "top10Movies.tail(len(top10Movies)-1).to_csv('/content/movies_by_director.csv',index=False)"
      ],
      "execution_count": null,
      "outputs": []
    },
    {
      "cell_type": "markdown",
      "metadata": {
        "id": "VDbyQArKUdzR"
      },
      "source": [
        "#Visesh's Data - for group by"
      ]
    },
    {
      "cell_type": "code",
      "metadata": {
        "id": "qHOOrjQfUhz5"
      },
      "source": [
        "data =pd.read_csv(\"/content/map_data.csv\")\n",
        "dataA=data.groupby(['country'],as_index=False).agg(sum_all_years=('count','sum')).copy()\n",
        "dataA.to_csv('/content/allyearsum_data.csv',index=False)"
      ],
      "execution_count": null,
      "outputs": []
    },
    {
      "cell_type": "markdown",
      "metadata": {
        "id": "AovdjiQYqfxi"
      },
      "source": [
        "#Alekhya"
      ]
    },
    {
      "cell_type": "code",
      "metadata": {
        "id": "tfmg4n8wqjlH"
      },
      "source": [
        "data =pd.read_csv(\"/content/boxoffice_world_map.csv\")\n",
        "dataA=data.groupby(['title_year','country'],as_index=False).agg(sum_budget=('budget','sum')).copy()\n",
        "dataA.to_csv('/content/year_contry_budget.csv',index=False)"
      ],
      "execution_count": null,
      "outputs": []
    },
    {
      "cell_type": "markdown",
      "metadata": {
        "id": "KNjHXyIsVBqd"
      },
      "source": [
        "#week 11 "
      ]
    },
    {
      "cell_type": "code",
      "metadata": {
        "id": "FNH3hlH1VBbW"
      },
      "source": [
        "import pandas as pd\r\n",
        "import numpy as np\r\n",
        "import datetime as dt"
      ],
      "execution_count": null,
      "outputs": []
    },
    {
      "cell_type": "code",
      "metadata": {
        "id": "Wrgsrm4zVLX0"
      },
      "source": [
        "data1 =pd.read_csv(\"/content/2008-2016.csv\")\r\n",
        "data2=pd.read_csv(\"/content/2020.csv\")\r\n",
        "dataJoin=pd.merge(left=data1, right=data2, how='outer', left_on=['fips_code'], right_on=['county_fips'])"
      ],
      "execution_count": null,
      "outputs": []
    },
    {
      "cell_type": "code",
      "metadata": {
        "id": "ldcuHntOWVep"
      },
      "source": [
        "newData=dataJoin.groupby('state_name',as_index=False).agg(sum).copy()"
      ],
      "execution_count": null,
      "outputs": []
    },
    {
      "cell_type": "code",
      "metadata": {
        "id": "82eMllb0XGN1"
      },
      "source": [
        "newData.to_csv(\"/content/state_data.csv\")"
      ],
      "execution_count": null,
      "outputs": []
    }
  ]
}